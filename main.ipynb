{
 "cells": [
  {
   "cell_type": "markdown",
   "metadata": {},
   "source": [
    "# Import libraries"
   ]
  },
  {
   "cell_type": "code",
   "execution_count": 56,
   "metadata": {},
   "outputs": [],
   "source": [
    "import numpy as np\n",
    "import pandas as pd\n",
    "from scipy import stats"
   ]
  },
  {
   "cell_type": "markdown",
   "metadata": {},
   "source": [
    "# Load baseline data\n",
    "Baseline estimates for the metrics, derived from historical data before the experiment."
   ]
  },
  {
   "cell_type": "code",
   "execution_count": 458,
   "metadata": {},
   "outputs": [],
   "source": [
    "baseline_dict = {'Metric': ['Unique cookies to view course overview page per day',\n",
    "                            'Unique cookies to click \"Start free trial\" button per day',\n",
    "                            'Enrollments per day',\n",
    "                            'Probability of payment, given enroll'],\n",
    "                 'Baseline_Value': [40000, 3200, 660, 0.53]}\n",
    "\n",
    "baseline_df = pd.DataFrame.from_dict(baseline_dict)"
   ]
  },
  {
   "cell_type": "code",
   "execution_count": 459,
   "metadata": {},
   "outputs": [],
   "source": [
    "derived_baseline_dict = {'Metric': ['Click-through probability on \"Start free trial\" button',\n",
    "                                    'Probabilty of enroll, given click',\n",
    "                                    'Probability of payment, given click'],\n",
    "                         'Baseline_Value': [3200/40000, 660/3200, 0.53*660/3200]}\n",
    "\n",
    "derived_baseline_df = pd.DataFrame.from_dict(derived_baseline_dict)"
   ]
  },
  {
   "cell_type": "code",
   "execution_count": 460,
   "metadata": {},
   "outputs": [],
   "source": [
    "baseline_df = pd.concat([baseline_df,derived_baseline_df],ignore_index=True)"
   ]
  },
  {
   "cell_type": "code",
   "execution_count": 461,
   "metadata": {},
   "outputs": [
    {
     "data": {
      "text/html": [
       "<div>\n",
       "<style scoped>\n",
       "    .dataframe tbody tr th:only-of-type {\n",
       "        vertical-align: middle;\n",
       "    }\n",
       "\n",
       "    .dataframe tbody tr th {\n",
       "        vertical-align: top;\n",
       "    }\n",
       "\n",
       "    .dataframe thead th {\n",
       "        text-align: right;\n",
       "    }\n",
       "</style>\n",
       "<table border=\"1\" class=\"dataframe\">\n",
       "  <thead>\n",
       "    <tr style=\"text-align: right;\">\n",
       "      <th></th>\n",
       "      <th>Metric</th>\n",
       "      <th>Baseline_Value</th>\n",
       "    </tr>\n",
       "  </thead>\n",
       "  <tbody>\n",
       "    <tr>\n",
       "      <th>0</th>\n",
       "      <td>Unique cookies to view course overview page per day</td>\n",
       "      <td>40000.000000</td>\n",
       "    </tr>\n",
       "    <tr>\n",
       "      <th>1</th>\n",
       "      <td>Unique cookies to click \"Start free trial\" button per day</td>\n",
       "      <td>3200.000000</td>\n",
       "    </tr>\n",
       "    <tr>\n",
       "      <th>2</th>\n",
       "      <td>Enrollments per day</td>\n",
       "      <td>660.000000</td>\n",
       "    </tr>\n",
       "    <tr>\n",
       "      <th>3</th>\n",
       "      <td>Probability of payment, given enroll</td>\n",
       "      <td>0.530000</td>\n",
       "    </tr>\n",
       "    <tr>\n",
       "      <th>4</th>\n",
       "      <td>Click-through probability on \"Start free trial\" button</td>\n",
       "      <td>0.080000</td>\n",
       "    </tr>\n",
       "    <tr>\n",
       "      <th>5</th>\n",
       "      <td>Probabilty of enroll, given click</td>\n",
       "      <td>0.206250</td>\n",
       "    </tr>\n",
       "    <tr>\n",
       "      <th>6</th>\n",
       "      <td>Probability of payment, given click</td>\n",
       "      <td>0.109313</td>\n",
       "    </tr>\n",
       "  </tbody>\n",
       "</table>\n",
       "</div>"
      ],
      "text/plain": [
       "                                                      Metric  Baseline_Value\n",
       "0        Unique cookies to view course overview page per day    40000.000000\n",
       "1  Unique cookies to click \"Start free trial\" button per day     3200.000000\n",
       "2                                        Enrollments per day      660.000000\n",
       "3                       Probability of payment, given enroll        0.530000\n",
       "4     Click-through probability on \"Start free trial\" button        0.080000\n",
       "5                          Probabilty of enroll, given click        0.206250\n",
       "6                        Probability of payment, given click        0.109313"
      ]
     },
     "execution_count": 461,
     "metadata": {},
     "output_type": "execute_result"
    }
   ],
   "source": [
    "pd.set_option('display.max_colwidth', None)\n",
    "baseline_df"
   ]
  },
  {
   "cell_type": "markdown",
   "metadata": {},
   "source": [
    "# Metrics\n",
    "We consider the following **invariant** metrics:\n",
    "- **Number of cookies** (number of unique cookies to view the course overview page)\n",
    "- **Number of clicks** (number of unique cookies to click the \"Start free trial\" button)\n",
    "- **Click-through-probability** (number of unique cookies to click the \"Start free trial\" button divided by the number of unique cookies to view the course overview page)\n",
    "\n",
    "and the following **evaluation** metrics:\n",
    "- **Gross conversion** (number of user-ids to enroll in the free trial divided by the number of unique cookies to click the \"Start free trial\" button)\n",
    "- **Net conversion** (number of user-ids to remain enrolled past the 14-day boundary divided by the number of unique cookies to click the \"Start free trial\" button)\n",
    "- **Retention** (number of user-ids to remain enrolled past the 14-day boundary divided by the number of user-ids to enroll).\n",
    "\n",
    "We remind that cookie \"uniqueness\" is determined by day. User-ids are automatically unique.\n",
    "\n",
    "We also define the practical significance boundary for each evaluation metric (difference that would have to be observed for a meaningful change for the business, $d_{\\text{min}}$):"
   ]
  },
  {
   "cell_type": "code",
   "execution_count": 522,
   "metadata": {},
   "outputs": [],
   "source": [
    "# number of evaluation metrics\n",
    "num_eval_metrics = 3\n",
    "\n",
    "# gross conversion\n",
    "d_min_gross_conv = -0.013\n",
    "\n",
    "# net conversion\n",
    "d_min_net_conv = 0.01\n",
    "\n",
    "# retention\n",
    "d_min_ret = 0.01"
   ]
  },
  {
   "cell_type": "markdown",
   "metadata": {},
   "source": [
    "# Metric variability\n",
    "As an intermediate step, we can estimate the variability (standard deviation) of the chosen evaluation metrics analytically with an example sample size of 5,000 unique cookies that visit the course overview page. This exercise allows us to discuss what distribution the evaluation metrics follow."
   ]
  },
  {
   "cell_type": "code",
   "execution_count": 523,
   "metadata": {},
   "outputs": [],
   "source": [
    "sample_size = 5000"
   ]
  },
  {
   "cell_type": "markdown",
   "metadata": {},
   "source": [
    "### Gross conversion\n",
    "This metric follows a binomial distribution with $n$ the number of unique cookies to click the \"Start free trial\" button and $\\hat{p}$ the \"probability of enroll, given click\". The expectation value for the metric is $n \\hat{p}$ and the variance is $n \\hat{p} (1-\\hat{p})$. We can rescale this metric by $n$ so that it is defined exactly as $\\hat{p}$ and its standard deviation is $\\sqrt{\\hat{p} (1-\\hat{p})/n}$."
   ]
  },
  {
   "cell_type": "code",
   "execution_count": 493,
   "metadata": {},
   "outputs": [],
   "source": [
    "p_hat_gross_conv = baseline_df.iloc[5]['Baseline_Value']\n",
    "n_gross_conv = sample_size*baseline_df.iloc[4]['Baseline_Value']"
   ]
  },
  {
   "cell_type": "code",
   "execution_count": 494,
   "metadata": {},
   "outputs": [
    {
     "data": {
      "text/plain": [
       "0.0202"
      ]
     },
     "execution_count": 494,
     "metadata": {},
     "output_type": "execute_result"
    }
   ],
   "source": [
    "# compute the std analytically\n",
    "std_gross_conv = np.sqrt(p_hat_gross_conv*(1-p_hat_gross_conv)/n_gross_conv)\n",
    "round(std_gross_conv,4)"
   ]
  },
  {
   "cell_type": "markdown",
   "metadata": {},
   "source": [
    "### Net conversion\n",
    "Similarly, this metric is defined as the \"probability of payment, given click\" ($\\hat{p}$) and $n$ is the same as for the gross conversion case."
   ]
  },
  {
   "cell_type": "code",
   "execution_count": 495,
   "metadata": {},
   "outputs": [],
   "source": [
    "p_hat_net_conv = baseline_df.iloc[6]['Baseline_Value']\n",
    "n_net_conv = n_gross_conv"
   ]
  },
  {
   "cell_type": "code",
   "execution_count": 496,
   "metadata": {},
   "outputs": [
    {
     "data": {
      "text/plain": [
       "0.0156"
      ]
     },
     "execution_count": 496,
     "metadata": {},
     "output_type": "execute_result"
    }
   ],
   "source": [
    "# compute the std analytically\n",
    "std_net_conv = np.sqrt(p_hat_net_conv*(1-p_hat_net_conv)/n_net_conv)\n",
    "round(std_net_conv,4)"
   ]
  },
  {
   "cell_type": "markdown",
   "metadata": {},
   "source": [
    "### Retention\n",
    "In this case, this metric is defined as the \"probability of payment, given enroll\" ($\\hat{p}$) and $n$ is the number of user-ids to enroll."
   ]
  },
  {
   "cell_type": "code",
   "execution_count": 497,
   "metadata": {},
   "outputs": [],
   "source": [
    "p_hat_ret = baseline_df.iloc[3]['Baseline_Value']\n",
    "n_ret = sample_size*baseline_df.iloc[2]['Baseline_Value']/baseline_df.iloc[0]['Baseline_Value']"
   ]
  },
  {
   "cell_type": "code",
   "execution_count": 498,
   "metadata": {},
   "outputs": [
    {
     "data": {
      "text/plain": [
       "0.0549"
      ]
     },
     "execution_count": 498,
     "metadata": {},
     "output_type": "execute_result"
    }
   ],
   "source": [
    "# compute the std analytically\n",
    "std_ret = np.sqrt(p_hat_ret*(1-p_hat_ret)/n_ret)\n",
    "round(std_ret,4)"
   ]
  },
  {
   "cell_type": "markdown",
   "metadata": {},
   "source": [
    "The final thing to check in this intermediate exercise is that, for our initial sample size of 5,000 pageviews, $n p$ and $n q$ (with $q = 1-p$) are larger than 5 for the three metrics. If these two conditions are met, we can approximate the binomial distributions B(n,p) with normal distributions N(np,npq) and therefore we can construct confidence intervals around the metric point estimates (the chosen metrics are probabilities and therefore inherently means) (through CLT). In this case, both conditions are met for all three metrics:"
   ]
  },
  {
   "cell_type": "code",
   "execution_count": 555,
   "metadata": {},
   "outputs": [
    {
     "name": "stdout",
     "output_type": "stream",
     "text": [
      "82.5 317.5\n",
      "43.725 356.275\n",
      "43.725 38.775\n"
     ]
    }
   ],
   "source": [
    "print(n_gross_conv*p_hat_gross_conv,n_gross_conv*(1-p_hat_gross_conv))\n",
    "print(n_net_conv*p_hat_net_conv,n_net_conv*(1-p_hat_net_conv))\n",
    "print(n_ret*p_hat_ret, n_ret*(1-p_hat_ret))"
   ]
  },
  {
   "cell_type": "markdown",
   "metadata": {},
   "source": [
    "# Size\n",
    "We have two groups (experiment and control) and we choose $\\alpha = 0.05$ and $1-\\beta = 0.80$. The sample size (for each group) for the given power can be computed using the following formula (see eq. (2.33) of [this](http://vanbelle.org/chapters%5Cwebchapter2.pdf)):\n",
    "\n",
    "$$ n = \\frac{\\left (z_{1-\\alpha/2} \\sqrt{2 \\hat{p} (1-\\hat{p})}+z_{1-\\beta} \\sqrt{\\hat{p} (1-\\hat{p})+(\\hat{p}+d_{\\text{min}}) (1-(\\hat{p}+d_{\\text{min}}))} \\right)^2}{d^2_{\\text{min}}} \\, .$$\n",
    "\n",
    "Since we are tracking and testing multiple metrics, we might consider applying the Bonferroni correction to reduce the possibility of observing false positives. However, given that the three evaluation metrics are to some extent correlated, applying the Bonferroni correction might be overly conservative.\n",
    "\n",
    "We define the chosen $\\alpha$ and $\\beta$ and whether to apply the Bonferroni correction:"
   ]
  },
  {
   "cell_type": "code",
   "execution_count": 500,
   "metadata": {},
   "outputs": [],
   "source": [
    "alpha=0.05\n",
    "beta=0.20\n",
    "apply_bonferroni=False"
   ]
  },
  {
   "cell_type": "code",
   "execution_count": 501,
   "metadata": {},
   "outputs": [],
   "source": [
    "if apply_bonferroni:\n",
    "    ind_alpha=alpha/num_eval_metrics\n",
    "else:\n",
    "    ind_alpha=alpha"
   ]
  },
  {
   "cell_type": "code",
   "execution_count": 502,
   "metadata": {},
   "outputs": [],
   "source": [
    "def compute_group_size(alpha,beta,p,dmin):\n",
    "    \n",
    "    if p>0.5:\n",
    "        dmin=-dmin\n",
    "    \n",
    "    return (stats.norm.ppf(1-alpha/2)*np.sqrt(2*p*(1-p))\n",
    "    + stats.norm.ppf(1-beta)*np.sqrt(p*(1-p)+(p+dmin)*(1-(p+dmin))))**2/dmin**2"
   ]
  },
  {
   "cell_type": "markdown",
   "metadata": {},
   "source": [
    "### Gross conversion\n",
    "Determine required number of unique cookies (per variation) to click \"Start free trial\" button:"
   ]
  },
  {
   "cell_type": "code",
   "execution_count": 524,
   "metadata": {},
   "outputs": [
    {
     "data": {
      "text/plain": [
       "15097"
      ]
     },
     "execution_count": 524,
     "metadata": {},
     "output_type": "execute_result"
    }
   ],
   "source": [
    "group_size_gross_conv = int(round(compute_group_size(ind_alpha,beta,p_hat_gross_conv,d_min_gross_conv),0))\n",
    "group_size_gross_conv"
   ]
  },
  {
   "cell_type": "markdown",
   "metadata": {},
   "source": [
    "Determine required number of unique cookies to visit course overview page (per variation):"
   ]
  },
  {
   "cell_type": "code",
   "execution_count": 525,
   "metadata": {},
   "outputs": [
    {
     "data": {
      "text/plain": [
       "188712"
      ]
     },
     "execution_count": 525,
     "metadata": {},
     "output_type": "execute_result"
    }
   ],
   "source": [
    "group_pageviews_gross_conv = int(round(group_size_gross_conv/baseline_df.iloc[4]['Baseline_Value'],0))\n",
    "group_pageviews_gross_conv"
   ]
  },
  {
   "cell_type": "markdown",
   "metadata": {},
   "source": [
    "### Net conversion\n",
    "Determine required number of unique cookies (per variation) to click \"Start free trial\" button:"
   ]
  },
  {
   "cell_type": "code",
   "execution_count": 526,
   "metadata": {},
   "outputs": [
    {
     "data": {
      "text/plain": [
       "15464"
      ]
     },
     "execution_count": 526,
     "metadata": {},
     "output_type": "execute_result"
    }
   ],
   "source": [
    "group_size_net_conv = int(round(compute_group_size(ind_alpha,beta,p_hat_net_conv,d_min_net_conv),0))\n",
    "group_size_net_conv"
   ]
  },
  {
   "cell_type": "markdown",
   "metadata": {},
   "source": [
    "Determine required number of unique cookies to visit course overview page (per variation):"
   ]
  },
  {
   "cell_type": "code",
   "execution_count": 527,
   "metadata": {},
   "outputs": [
    {
     "data": {
      "text/plain": [
       "193300"
      ]
     },
     "execution_count": 527,
     "metadata": {},
     "output_type": "execute_result"
    }
   ],
   "source": [
    "group_pageviews_net_conv = int(round(group_size_net_conv/baseline_df.iloc[4]['Baseline_Value'],0))\n",
    "group_pageviews_net_conv"
   ]
  },
  {
   "cell_type": "markdown",
   "metadata": {},
   "source": [
    "### Retention\n",
    "Determine required number of user-ids to enroll (per variation):"
   ]
  },
  {
   "cell_type": "code",
   "execution_count": 528,
   "metadata": {},
   "outputs": [
    {
     "data": {
      "text/plain": [
       "39115"
      ]
     },
     "execution_count": 528,
     "metadata": {},
     "output_type": "execute_result"
    }
   ],
   "source": [
    "group_size_ret = int(round(compute_group_size(ind_alpha,beta,p_hat_ret,d_min_ret),0))\n",
    "group_size_ret"
   ]
  },
  {
   "cell_type": "markdown",
   "metadata": {},
   "source": [
    "Determine required number of unique cookies to visit course overview page (per variation):"
   ]
  },
  {
   "cell_type": "code",
   "execution_count": 529,
   "metadata": {},
   "outputs": [
    {
     "data": {
      "text/plain": [
       "2370606"
      ]
     },
     "execution_count": 529,
     "metadata": {},
     "output_type": "execute_result"
    }
   ],
   "source": [
    "group_pageviews_ret = int(round(group_size_ret/baseline_df.iloc[2]['Baseline_Value']*baseline_df.iloc[0]['Baseline_Value'],0))\n",
    "group_pageviews_ret"
   ]
  },
  {
   "cell_type": "markdown",
   "metadata": {},
   "source": [
    "If we want to track all evaluation metrics, we need to consider the maximum of all the required sizes:"
   ]
  },
  {
   "cell_type": "code",
   "execution_count": 530,
   "metadata": {},
   "outputs": [
    {
     "data": {
      "text/plain": [
       "2370606"
      ]
     },
     "execution_count": 530,
     "metadata": {},
     "output_type": "execute_result"
    }
   ],
   "source": [
    "max([group_pageviews_gross_conv,group_pageviews_net_conv,group_pageviews_ret])"
   ]
  },
  {
   "cell_type": "markdown",
   "metadata": {},
   "source": [
    "We observe that the number of unique cookies needed to test retention is much higher than those needed to test gross and net conversions. We might consider dropping the retention metric if it requires too many cookies/high percentage of traffic diversion/a very long time to run the experiment. In that case, the number of unique cookies needed is (per group):"
   ]
  },
  {
   "cell_type": "code",
   "execution_count": 531,
   "metadata": {},
   "outputs": [
    {
     "data": {
      "text/plain": [
       "193300"
      ]
     },
     "execution_count": 531,
     "metadata": {},
     "output_type": "execute_result"
    }
   ],
   "source": [
    "max([group_pageviews_gross_conv,group_pageviews_net_conv])"
   ]
  },
  {
   "cell_type": "markdown",
   "metadata": {},
   "source": [
    "# Duration vs Exposure\n",
    "We know that our traffic consists of approximately 40,000 unique cookies that visit the course overview page per day (from the historical data at our disposal). If we consider all three metrics, with 100% diverted traffic it would take *2 * 2,370,606/40,000 = 118.5* days to run the experiment, which is definitely too long (and does not leave room for any other experiment).\n",
    "\n",
    "If we drop retention from the set of evaluation metrics and divert 50% of traffic (20,000 unique cookies per day), we would need *2 * 193,300/20,000 = 19.3* days to run the experiment, which is acceptable. In addition, the experiment does not seem to be very risky for the involved users and for the business itself so a 50% traffic diversion seems like a reasonable percentage."
   ]
  },
  {
   "cell_type": "markdown",
   "metadata": {},
   "source": [
    "# Load experiment and control data\n",
    "\n",
    "Meaning of each column in the dataframes below:\n",
    "- **Pageviews**: number of unique cookies to view the course overview page that day\n",
    "- **Clicks**: number of unique cookies to click the \"Start free trial\" button that day\n",
    "- **Enrollments**: number of user-ids to enroll in the free trial that day\n",
    "- **Payments**: number of user-ids who enrolled on that day and remained enrolled past the 14-day boundary (thus making a payment).\n",
    "\n",
    "Because of the 14-day free-trial window, enrollments and payments are tracked for 14 fewer days than the other columns."
   ]
  },
  {
   "cell_type": "code",
   "execution_count": 551,
   "metadata": {},
   "outputs": [],
   "source": [
    "control_df = pd.read_csv('./data/control_results.csv')\n",
    "experiment_df = pd.read_csv('./data/experiment_results.csv')"
   ]
  },
  {
   "cell_type": "code",
   "execution_count": 472,
   "metadata": {},
   "outputs": [
    {
     "data": {
      "text/html": [
       "<div>\n",
       "<style scoped>\n",
       "    .dataframe tbody tr th:only-of-type {\n",
       "        vertical-align: middle;\n",
       "    }\n",
       "\n",
       "    .dataframe tbody tr th {\n",
       "        vertical-align: top;\n",
       "    }\n",
       "\n",
       "    .dataframe thead th {\n",
       "        text-align: right;\n",
       "    }\n",
       "</style>\n",
       "<table border=\"1\" class=\"dataframe\">\n",
       "  <thead>\n",
       "    <tr style=\"text-align: right;\">\n",
       "      <th></th>\n",
       "      <th>Date</th>\n",
       "      <th>Pageviews</th>\n",
       "      <th>Clicks</th>\n",
       "      <th>Enrollments</th>\n",
       "      <th>Payments</th>\n",
       "    </tr>\n",
       "  </thead>\n",
       "  <tbody>\n",
       "    <tr>\n",
       "      <th>0</th>\n",
       "      <td>Sat, Oct 11</td>\n",
       "      <td>7723</td>\n",
       "      <td>687</td>\n",
       "      <td>134.0</td>\n",
       "      <td>70.0</td>\n",
       "    </tr>\n",
       "    <tr>\n",
       "      <th>1</th>\n",
       "      <td>Sun, Oct 12</td>\n",
       "      <td>9102</td>\n",
       "      <td>779</td>\n",
       "      <td>147.0</td>\n",
       "      <td>70.0</td>\n",
       "    </tr>\n",
       "    <tr>\n",
       "      <th>2</th>\n",
       "      <td>Mon, Oct 13</td>\n",
       "      <td>10511</td>\n",
       "      <td>909</td>\n",
       "      <td>167.0</td>\n",
       "      <td>95.0</td>\n",
       "    </tr>\n",
       "    <tr>\n",
       "      <th>3</th>\n",
       "      <td>Tue, Oct 14</td>\n",
       "      <td>9871</td>\n",
       "      <td>836</td>\n",
       "      <td>156.0</td>\n",
       "      <td>105.0</td>\n",
       "    </tr>\n",
       "    <tr>\n",
       "      <th>4</th>\n",
       "      <td>Wed, Oct 15</td>\n",
       "      <td>10014</td>\n",
       "      <td>837</td>\n",
       "      <td>163.0</td>\n",
       "      <td>64.0</td>\n",
       "    </tr>\n",
       "  </tbody>\n",
       "</table>\n",
       "</div>"
      ],
      "text/plain": [
       "          Date  Pageviews  Clicks  Enrollments  Payments\n",
       "0  Sat, Oct 11       7723     687        134.0      70.0\n",
       "1  Sun, Oct 12       9102     779        147.0      70.0\n",
       "2  Mon, Oct 13      10511     909        167.0      95.0\n",
       "3  Tue, Oct 14       9871     836        156.0     105.0\n",
       "4  Wed, Oct 15      10014     837        163.0      64.0"
      ]
     },
     "execution_count": 472,
     "metadata": {},
     "output_type": "execute_result"
    }
   ],
   "source": [
    "control_df.head()"
   ]
  },
  {
   "cell_type": "code",
   "execution_count": 473,
   "metadata": {},
   "outputs": [
    {
     "data": {
      "text/html": [
       "<div>\n",
       "<style scoped>\n",
       "    .dataframe tbody tr th:only-of-type {\n",
       "        vertical-align: middle;\n",
       "    }\n",
       "\n",
       "    .dataframe tbody tr th {\n",
       "        vertical-align: top;\n",
       "    }\n",
       "\n",
       "    .dataframe thead th {\n",
       "        text-align: right;\n",
       "    }\n",
       "</style>\n",
       "<table border=\"1\" class=\"dataframe\">\n",
       "  <thead>\n",
       "    <tr style=\"text-align: right;\">\n",
       "      <th></th>\n",
       "      <th>Date</th>\n",
       "      <th>Pageviews</th>\n",
       "      <th>Clicks</th>\n",
       "      <th>Enrollments</th>\n",
       "      <th>Payments</th>\n",
       "    </tr>\n",
       "  </thead>\n",
       "  <tbody>\n",
       "    <tr>\n",
       "      <th>32</th>\n",
       "      <td>Wed, Nov 12</td>\n",
       "      <td>10042</td>\n",
       "      <td>802</td>\n",
       "      <td>NaN</td>\n",
       "      <td>NaN</td>\n",
       "    </tr>\n",
       "    <tr>\n",
       "      <th>33</th>\n",
       "      <td>Thu, Nov 13</td>\n",
       "      <td>9721</td>\n",
       "      <td>829</td>\n",
       "      <td>NaN</td>\n",
       "      <td>NaN</td>\n",
       "    </tr>\n",
       "    <tr>\n",
       "      <th>34</th>\n",
       "      <td>Fri, Nov 14</td>\n",
       "      <td>9304</td>\n",
       "      <td>770</td>\n",
       "      <td>NaN</td>\n",
       "      <td>NaN</td>\n",
       "    </tr>\n",
       "    <tr>\n",
       "      <th>35</th>\n",
       "      <td>Sat, Nov 15</td>\n",
       "      <td>8668</td>\n",
       "      <td>724</td>\n",
       "      <td>NaN</td>\n",
       "      <td>NaN</td>\n",
       "    </tr>\n",
       "    <tr>\n",
       "      <th>36</th>\n",
       "      <td>Sun, Nov 16</td>\n",
       "      <td>8988</td>\n",
       "      <td>710</td>\n",
       "      <td>NaN</td>\n",
       "      <td>NaN</td>\n",
       "    </tr>\n",
       "  </tbody>\n",
       "</table>\n",
       "</div>"
      ],
      "text/plain": [
       "           Date  Pageviews  Clicks  Enrollments  Payments\n",
       "32  Wed, Nov 12      10042     802          NaN       NaN\n",
       "33  Thu, Nov 13       9721     829          NaN       NaN\n",
       "34  Fri, Nov 14       9304     770          NaN       NaN\n",
       "35  Sat, Nov 15       8668     724          NaN       NaN\n",
       "36  Sun, Nov 16       8988     710          NaN       NaN"
      ]
     },
     "execution_count": 473,
     "metadata": {},
     "output_type": "execute_result"
    }
   ],
   "source": [
    "experiment_df.tail()"
   ]
  },
  {
   "cell_type": "markdown",
   "metadata": {},
   "source": [
    "# Analysis"
   ]
  },
  {
   "cell_type": "markdown",
   "metadata": {},
   "source": [
    "We need to consider only the days for which we have enrollment and payment information as well, since the evaluation metrics depend on these."
   ]
  },
  {
   "cell_type": "code",
   "execution_count": 532,
   "metadata": {},
   "outputs": [],
   "source": [
    "final_control_df = control_df[control_df['Enrollments'].notnull()]\n",
    "final_experiment_df = experiment_df[experiment_df['Enrollments'].notnull()]"
   ]
  },
  {
   "cell_type": "code",
   "execution_count": 533,
   "metadata": {},
   "outputs": [],
   "source": [
    "# create summary dataframes with totals\n",
    "final_control_summary_df = pd.DataFrame(final_control_df.sum()).drop('Date').rename(columns={0:'Control'})\n",
    "final_experiment_summary_df = pd.DataFrame(final_experiment_df.sum()).drop('Date').rename(columns={0:'Experiment'})"
   ]
  },
  {
   "cell_type": "code",
   "execution_count": 534,
   "metadata": {},
   "outputs": [
    {
     "data": {
      "text/html": [
       "<div>\n",
       "<style scoped>\n",
       "    .dataframe tbody tr th:only-of-type {\n",
       "        vertical-align: middle;\n",
       "    }\n",
       "\n",
       "    .dataframe tbody tr th {\n",
       "        vertical-align: top;\n",
       "    }\n",
       "\n",
       "    .dataframe thead th {\n",
       "        text-align: right;\n",
       "    }\n",
       "</style>\n",
       "<table border=\"1\" class=\"dataframe\">\n",
       "  <thead>\n",
       "    <tr style=\"text-align: right;\">\n",
       "      <th></th>\n",
       "      <th>Control</th>\n",
       "      <th>Experiment</th>\n",
       "    </tr>\n",
       "  </thead>\n",
       "  <tbody>\n",
       "    <tr>\n",
       "      <th>Pageviews</th>\n",
       "      <td>212163</td>\n",
       "      <td>211362</td>\n",
       "    </tr>\n",
       "    <tr>\n",
       "      <th>Clicks</th>\n",
       "      <td>17293</td>\n",
       "      <td>17260</td>\n",
       "    </tr>\n",
       "    <tr>\n",
       "      <th>Enrollments</th>\n",
       "      <td>3785</td>\n",
       "      <td>3423</td>\n",
       "    </tr>\n",
       "    <tr>\n",
       "      <th>Payments</th>\n",
       "      <td>2033</td>\n",
       "      <td>1945</td>\n",
       "    </tr>\n",
       "  </tbody>\n",
       "</table>\n",
       "</div>"
      ],
      "text/plain": [
       "            Control Experiment\n",
       "Pageviews    212163     211362\n",
       "Clicks        17293      17260\n",
       "Enrollments    3785       3423\n",
       "Payments       2033       1945"
      ]
     },
     "execution_count": 534,
     "metadata": {},
     "output_type": "execute_result"
    }
   ],
   "source": [
    "# join on index\n",
    "final_results_df = pd.DataFrame.join(final_control_summary_df,final_experiment_summary_df)\n",
    "final_results_df"
   ]
  },
  {
   "cell_type": "markdown",
   "metadata": {},
   "source": [
    "The totals for pageviews and clicks are above the minimum sample sizes required to test gross and net conversions, but below the minimum size required for retention. For the purpose of this analysis, we decide to drop retention from the set of evaluation metrics."
   ]
  },
  {
   "cell_type": "markdown",
   "metadata": {},
   "source": [
    "### Sanity checks on invariant metrics\n",
    "Check whether invariant metrics are equivalent between experiment and control groups.\n",
    "\n",
    "**Pageviews** (unique cookies to visit course overview page) and **clicks** (unique cookies to click the \"Start free trial\" button) should be randomly split between the two groups with p=0.50 so we can use a binomial test to verify it. The sample size is large enough to assume normal distribution in constructing confidence intervals around the expected fraction of cookies in the control group (p=0.50) for both metrics (we define \"control\" as the success outcome). We choose $\\alpha=0.05$ ($z^*=1.96$)."
   ]
  },
  {
   "cell_type": "code",
   "execution_count": 535,
   "metadata": {},
   "outputs": [
    {
     "data": {
      "text/html": [
       "<div>\n",
       "<style scoped>\n",
       "    .dataframe tbody tr th:only-of-type {\n",
       "        vertical-align: middle;\n",
       "    }\n",
       "\n",
       "    .dataframe tbody tr th {\n",
       "        vertical-align: top;\n",
       "    }\n",
       "\n",
       "    .dataframe thead th {\n",
       "        text-align: right;\n",
       "    }\n",
       "</style>\n",
       "<table border=\"1\" class=\"dataframe\">\n",
       "  <thead>\n",
       "    <tr style=\"text-align: right;\">\n",
       "      <th></th>\n",
       "      <th>Control</th>\n",
       "      <th>Experiment</th>\n",
       "    </tr>\n",
       "  </thead>\n",
       "  <tbody>\n",
       "    <tr>\n",
       "      <th>Pageviews</th>\n",
       "      <td>212163</td>\n",
       "      <td>211362</td>\n",
       "    </tr>\n",
       "    <tr>\n",
       "      <th>Clicks</th>\n",
       "      <td>17293</td>\n",
       "      <td>17260</td>\n",
       "    </tr>\n",
       "  </tbody>\n",
       "</table>\n",
       "</div>"
      ],
      "text/plain": [
       "          Control Experiment\n",
       "Pageviews  212163     211362\n",
       "Clicks      17293      17260"
      ]
     },
     "execution_count": 535,
     "metadata": {},
     "output_type": "execute_result"
    }
   ],
   "source": [
    "sanity_check_df = final_results_df.drop(['Enrollments','Payments'])\n",
    "sanity_check_df"
   ]
  },
  {
   "cell_type": "code",
   "execution_count": 536,
   "metadata": {},
   "outputs": [],
   "source": [
    "sanity_check_df['Total'] = sanity_check_df['Control']+sanity_check_df['Experiment']\n",
    "sanity_check_df['Observed_Fraction'] = sanity_check_df['Control']/sanity_check_df['Total']\n",
    "sanity_check_df['Expected_Fraction'] = 0.5\n",
    "sanity_check_df['Std'] = sanity_check_df['Expected_Fraction']*(1-sanity_check_df['Expected_Fraction'])/sanity_check_df['Total']\n",
    "sanity_check_df['Std'] = sanity_check_df['Std'].apply(lambda x:np.sqrt(x))\n",
    "sanity_check_df['Margin_Error'] = 1.96*sanity_check_df['Std']\n",
    "sanity_check_df['Lower_CI'] = sanity_check_df['Expected_Fraction']-sanity_check_df['Margin_Error']\n",
    "sanity_check_df['Upper_CI'] = sanity_check_df['Expected_Fraction']+sanity_check_df['Margin_Error']\n",
    "sanity_check_df['Pass_Test'] = sanity_check_df.apply(lambda x: x['Observed_Fraction']>=x['Lower_CI'] and x['Observed_Fraction']<=x['Upper_CI'], axis=1)"
   ]
  },
  {
   "cell_type": "code",
   "execution_count": 537,
   "metadata": {},
   "outputs": [
    {
     "data": {
      "text/html": [
       "<div>\n",
       "<style scoped>\n",
       "    .dataframe tbody tr th:only-of-type {\n",
       "        vertical-align: middle;\n",
       "    }\n",
       "\n",
       "    .dataframe tbody tr th {\n",
       "        vertical-align: top;\n",
       "    }\n",
       "\n",
       "    .dataframe thead th {\n",
       "        text-align: right;\n",
       "    }\n",
       "</style>\n",
       "<table border=\"1\" class=\"dataframe\">\n",
       "  <thead>\n",
       "    <tr style=\"text-align: right;\">\n",
       "      <th></th>\n",
       "      <th>Control</th>\n",
       "      <th>Experiment</th>\n",
       "      <th>Total</th>\n",
       "      <th>Observed_Fraction</th>\n",
       "      <th>Expected_Fraction</th>\n",
       "      <th>Std</th>\n",
       "      <th>Margin_Error</th>\n",
       "      <th>Lower_CI</th>\n",
       "      <th>Upper_CI</th>\n",
       "      <th>Pass_Test</th>\n",
       "    </tr>\n",
       "  </thead>\n",
       "  <tbody>\n",
       "    <tr>\n",
       "      <th>Pageviews</th>\n",
       "      <td>212163</td>\n",
       "      <td>211362</td>\n",
       "      <td>423525</td>\n",
       "      <td>0.500946</td>\n",
       "      <td>0.5</td>\n",
       "      <td>0.000768</td>\n",
       "      <td>0.001506</td>\n",
       "      <td>0.498494</td>\n",
       "      <td>0.501506</td>\n",
       "      <td>True</td>\n",
       "    </tr>\n",
       "    <tr>\n",
       "      <th>Clicks</th>\n",
       "      <td>17293</td>\n",
       "      <td>17260</td>\n",
       "      <td>34553</td>\n",
       "      <td>0.500478</td>\n",
       "      <td>0.5</td>\n",
       "      <td>0.002690</td>\n",
       "      <td>0.005272</td>\n",
       "      <td>0.494728</td>\n",
       "      <td>0.505272</td>\n",
       "      <td>True</td>\n",
       "    </tr>\n",
       "  </tbody>\n",
       "</table>\n",
       "</div>"
      ],
      "text/plain": [
       "          Control Experiment   Total Observed_Fraction  Expected_Fraction  \\\n",
       "Pageviews  212163     211362  423525          0.500946                0.5   \n",
       "Clicks      17293      17260   34553          0.500478                0.5   \n",
       "\n",
       "                Std  Margin_Error  Lower_CI  Upper_CI  Pass_Test  \n",
       "Pageviews  0.000768      0.001506  0.498494  0.501506       True  \n",
       "Clicks     0.002690      0.005272  0.494728  0.505272       True  "
      ]
     },
     "execution_count": 537,
     "metadata": {},
     "output_type": "execute_result"
    }
   ],
   "source": [
    "sanity_check_df"
   ]
  },
  {
   "cell_type": "markdown",
   "metadata": {},
   "source": [
    "For the **click-through probability**, we construct the 95% confidence interval around the expected difference in click-through probabilities ($d_{\\text{exp}}=0$) and check whether the observed difference is within the confidence interval."
   ]
  },
  {
   "cell_type": "code",
   "execution_count": 538,
   "metadata": {},
   "outputs": [
    {
     "data": {
      "text/html": [
       "<div>\n",
       "<style scoped>\n",
       "    .dataframe tbody tr th:only-of-type {\n",
       "        vertical-align: middle;\n",
       "    }\n",
       "\n",
       "    .dataframe tbody tr th {\n",
       "        vertical-align: top;\n",
       "    }\n",
       "\n",
       "    .dataframe thead th {\n",
       "        text-align: right;\n",
       "    }\n",
       "</style>\n",
       "<table border=\"1\" class=\"dataframe\">\n",
       "  <thead>\n",
       "    <tr style=\"text-align: right;\">\n",
       "      <th></th>\n",
       "      <th>Control</th>\n",
       "      <th>Experiment</th>\n",
       "    </tr>\n",
       "  </thead>\n",
       "  <tbody>\n",
       "    <tr>\n",
       "      <th>Click-through Probability</th>\n",
       "      <td>0.081508</td>\n",
       "      <td>0.081661</td>\n",
       "    </tr>\n",
       "  </tbody>\n",
       "</table>\n",
       "</div>"
      ],
      "text/plain": [
       "                            Control  Experiment\n",
       "Click-through Probability  0.081508    0.081661"
      ]
     },
     "execution_count": 538,
     "metadata": {},
     "output_type": "execute_result"
    }
   ],
   "source": [
    "add_sanity_check_df = pd.DataFrame({'Control':pd.Series([final_results_df.loc['Clicks','Control']/final_results_df.loc['Pageviews','Control']], index=['Click-through Probability']),\n",
    "                                    'Experiment':pd.Series([final_results_df.loc['Clicks','Experiment']/final_results_df.loc['Pageviews','Experiment']], index=['Click-through Probability'])})\n",
    "add_sanity_check_df"
   ]
  },
  {
   "cell_type": "code",
   "execution_count": 539,
   "metadata": {},
   "outputs": [],
   "source": [
    "add_sanity_check_df['Observed_Diff'] = add_sanity_check_df['Experiment']-add_sanity_check_df['Control']\n",
    "add_sanity_check_df['Expected_Diff'] = 0.0\n",
    "add_sanity_check_df['Pooled_Prob'] = (final_results_df.loc['Clicks','Control']+final_results_df.loc['Clicks','Experiment'])/(final_results_df.loc['Pageviews','Control']+final_results_df.loc['Pageviews','Experiment'])\n",
    "add_sanity_check_df['Pooled_SE'] = np.sqrt(add_sanity_check_df['Pooled_Prob']*(1-add_sanity_check_df['Pooled_Prob'])*(1/final_results_df.loc['Pageviews','Control']+1/final_results_df.loc['Pageviews','Experiment']))\n",
    "add_sanity_check_df['Margin_Error'] = 1.96*add_sanity_check_df['Pooled_SE']\n",
    "add_sanity_check_df['Lower_CI'] = add_sanity_check_df['Expected_Diff']-add_sanity_check_df['Margin_Error']\n",
    "add_sanity_check_df['Upper_CI'] = add_sanity_check_df['Expected_Diff']+add_sanity_check_df['Margin_Error']\n",
    "add_sanity_check_df['Pass_Test'] = add_sanity_check_df.apply(lambda x: x['Observed_Diff']>=x['Lower_CI'] and x['Observed_Diff']<=x['Upper_CI'], axis=1)"
   ]
  },
  {
   "cell_type": "code",
   "execution_count": 540,
   "metadata": {},
   "outputs": [
    {
     "data": {
      "text/html": [
       "<div>\n",
       "<style scoped>\n",
       "    .dataframe tbody tr th:only-of-type {\n",
       "        vertical-align: middle;\n",
       "    }\n",
       "\n",
       "    .dataframe tbody tr th {\n",
       "        vertical-align: top;\n",
       "    }\n",
       "\n",
       "    .dataframe thead th {\n",
       "        text-align: right;\n",
       "    }\n",
       "</style>\n",
       "<table border=\"1\" class=\"dataframe\">\n",
       "  <thead>\n",
       "    <tr style=\"text-align: right;\">\n",
       "      <th></th>\n",
       "      <th>Control</th>\n",
       "      <th>Experiment</th>\n",
       "      <th>Observed_Diff</th>\n",
       "      <th>Expected_Diff</th>\n",
       "      <th>Pooled_Prob</th>\n",
       "      <th>Pooled_SE</th>\n",
       "      <th>Margin_Error</th>\n",
       "      <th>Lower_CI</th>\n",
       "      <th>Upper_CI</th>\n",
       "      <th>Pass_Test</th>\n",
       "    </tr>\n",
       "  </thead>\n",
       "  <tbody>\n",
       "    <tr>\n",
       "      <th>Click-through Probability</th>\n",
       "      <td>0.081508</td>\n",
       "      <td>0.081661</td>\n",
       "      <td>0.000153</td>\n",
       "      <td>0.0</td>\n",
       "      <td>0.081584</td>\n",
       "      <td>0.000841</td>\n",
       "      <td>0.001649</td>\n",
       "      <td>-0.001649</td>\n",
       "      <td>0.001649</td>\n",
       "      <td>True</td>\n",
       "    </tr>\n",
       "  </tbody>\n",
       "</table>\n",
       "</div>"
      ],
      "text/plain": [
       "                            Control  Experiment  Observed_Diff  Expected_Diff  \\\n",
       "Click-through Probability  0.081508    0.081661       0.000153            0.0   \n",
       "\n",
       "                           Pooled_Prob  Pooled_SE  Margin_Error  Lower_CI  \\\n",
       "Click-through Probability     0.081584   0.000841      0.001649 -0.001649   \n",
       "\n",
       "                           Upper_CI  Pass_Test  \n",
       "Click-through Probability  0.001649       True  "
      ]
     },
     "execution_count": 540,
     "metadata": {},
     "output_type": "execute_result"
    }
   ],
   "source": [
    "add_sanity_check_df"
   ]
  },
  {
   "cell_type": "markdown",
   "metadata": {},
   "source": [
    "Since all sanity checks are passed, there is no need for further investigation (e.g. looking at the day-to-day breakdown)."
   ]
  },
  {
   "cell_type": "markdown",
   "metadata": {},
   "source": [
    "### Evaluation metrics\n",
    "\n",
    "#### Effect Size Test\n",
    "\n",
    "For each evaluation metric (gross and net conversions) we construct the 95% confidence interval around the difference between experiment and control and check whether the interval includes zero (if it doesn't, the difference is statistically significant) and whether the interval includes $d_{\\text{min}}$ (if it doesn't, the difference is also practically significant)."
   ]
  },
  {
   "cell_type": "code",
   "execution_count": 541,
   "metadata": {},
   "outputs": [
    {
     "data": {
      "text/html": [
       "<div>\n",
       "<style scoped>\n",
       "    .dataframe tbody tr th:only-of-type {\n",
       "        vertical-align: middle;\n",
       "    }\n",
       "\n",
       "    .dataframe tbody tr th {\n",
       "        vertical-align: top;\n",
       "    }\n",
       "\n",
       "    .dataframe thead th {\n",
       "        text-align: right;\n",
       "    }\n",
       "</style>\n",
       "<table border=\"1\" class=\"dataframe\">\n",
       "  <thead>\n",
       "    <tr style=\"text-align: right;\">\n",
       "      <th></th>\n",
       "      <th>Control</th>\n",
       "      <th>Experiment</th>\n",
       "    </tr>\n",
       "  </thead>\n",
       "  <tbody>\n",
       "    <tr>\n",
       "      <th>Gross conversion</th>\n",
       "      <td>0.218875</td>\n",
       "      <td>0.198320</td>\n",
       "    </tr>\n",
       "    <tr>\n",
       "      <th>Net conversion</th>\n",
       "      <td>0.117562</td>\n",
       "      <td>0.112688</td>\n",
       "    </tr>\n",
       "  </tbody>\n",
       "</table>\n",
       "</div>"
      ],
      "text/plain": [
       "                   Control  Experiment\n",
       "Gross conversion  0.218875    0.198320\n",
       "Net conversion    0.117562    0.112688"
      ]
     },
     "execution_count": 541,
     "metadata": {},
     "output_type": "execute_result"
    }
   ],
   "source": [
    "eval_metrics_df = pd.DataFrame({'Control':pd.Series([final_results_df.loc['Enrollments','Control']/final_results_df.loc['Clicks','Control'],\n",
    "                                                     final_results_df.loc['Payments','Control']/final_results_df.loc['Clicks','Control']],\n",
    "                                                    index=['Gross conversion','Net conversion']),\n",
    "                                'Experiment':pd.Series([final_results_df.loc['Enrollments','Experiment']/final_results_df.loc['Clicks','Experiment'],\n",
    "                                                        final_results_df.loc['Payments','Experiment']/final_results_df.loc['Clicks','Experiment']],\n",
    "                                                       index=['Gross conversion','Net conversion'])})\n",
    "eval_metrics_df"
   ]
  },
  {
   "cell_type": "code",
   "execution_count": 542,
   "metadata": {},
   "outputs": [],
   "source": [
    "def pass_practical_test(row):\n",
    "    \n",
    "    if row['Minimum_Diff']>=0:\n",
    "        return row['Minimum_Diff']<row['Lower_CI']\n",
    "    else:\n",
    "        return row['Minimum_Diff']>row['Upper_CI']"
   ]
  },
  {
   "cell_type": "code",
   "execution_count": 543,
   "metadata": {},
   "outputs": [],
   "source": [
    "eval_metrics_df['Observed_Diff'] = eval_metrics_df['Experiment']-eval_metrics_df['Control']\n",
    "eval_metrics_df['Expected_Diff'] = 0.0\n",
    "eval_metrics_df['Minimum_Diff'] = [d_min_gross_conv,d_min_net_conv]\n",
    "\n",
    "pooled_prob_gross_conv = (final_results_df.loc['Enrollments','Control']+final_results_df.loc['Enrollments','Experiment'])/(final_results_df.loc['Clicks','Control']+final_results_df.loc['Clicks','Experiment'])\n",
    "pooled_prob_net_conv = (final_results_df.loc['Payments','Control']+final_results_df.loc['Payments','Experiment'])/(final_results_df.loc['Clicks','Control']+final_results_df.loc['Clicks','Experiment'])\n",
    "eval_metrics_df['Pooled_Prob'] = [pooled_prob_gross_conv,pooled_prob_net_conv]\n",
    "eval_metrics_df['Pooled_SE'] = np.sqrt(eval_metrics_df['Pooled_Prob']*(1-eval_metrics_df['Pooled_Prob'])*(1/final_results_df.loc['Clicks','Control']+1/final_results_df.loc['Clicks','Experiment']))\n",
    "\n",
    "eval_metrics_df['Margin_Error'] = 1.96*eval_metrics_df['Pooled_SE']\n",
    "eval_metrics_df['Lower_CI'] = eval_metrics_df['Observed_Diff']-eval_metrics_df['Margin_Error']\n",
    "eval_metrics_df['Upper_CI'] = eval_metrics_df['Observed_Diff']+eval_metrics_df['Margin_Error']\n",
    "\n",
    "eval_metrics_df['Pass_Stat_Test'] = eval_metrics_df.apply(lambda x: False if x['Expected_Diff']>=x['Lower_CI'] and x['Expected_Diff']<=x['Upper_CI'] else True, axis=1)\n",
    "eval_metrics_df['Pass_Prac_Test'] = eval_metrics_df.apply(pass_practical_test, axis=1)"
   ]
  },
  {
   "cell_type": "code",
   "execution_count": 544,
   "metadata": {},
   "outputs": [
    {
     "data": {
      "text/html": [
       "<div>\n",
       "<style scoped>\n",
       "    .dataframe tbody tr th:only-of-type {\n",
       "        vertical-align: middle;\n",
       "    }\n",
       "\n",
       "    .dataframe tbody tr th {\n",
       "        vertical-align: top;\n",
       "    }\n",
       "\n",
       "    .dataframe thead th {\n",
       "        text-align: right;\n",
       "    }\n",
       "</style>\n",
       "<table border=\"1\" class=\"dataframe\">\n",
       "  <thead>\n",
       "    <tr style=\"text-align: right;\">\n",
       "      <th></th>\n",
       "      <th>Control</th>\n",
       "      <th>Experiment</th>\n",
       "      <th>Observed_Diff</th>\n",
       "      <th>Expected_Diff</th>\n",
       "      <th>Minimum_Diff</th>\n",
       "      <th>Pooled_Prob</th>\n",
       "      <th>Pooled_SE</th>\n",
       "      <th>Margin_Error</th>\n",
       "      <th>Lower_CI</th>\n",
       "      <th>Upper_CI</th>\n",
       "      <th>Pass_Stat_Test</th>\n",
       "      <th>Pass_Prac_Test</th>\n",
       "    </tr>\n",
       "  </thead>\n",
       "  <tbody>\n",
       "    <tr>\n",
       "      <th>Gross conversion</th>\n",
       "      <td>0.218875</td>\n",
       "      <td>0.198320</td>\n",
       "      <td>-0.020555</td>\n",
       "      <td>0.0</td>\n",
       "      <td>-0.013</td>\n",
       "      <td>0.208607</td>\n",
       "      <td>0.004372</td>\n",
       "      <td>0.008568</td>\n",
       "      <td>-0.029123</td>\n",
       "      <td>-0.011986</td>\n",
       "      <td>True</td>\n",
       "      <td>False</td>\n",
       "    </tr>\n",
       "    <tr>\n",
       "      <th>Net conversion</th>\n",
       "      <td>0.117562</td>\n",
       "      <td>0.112688</td>\n",
       "      <td>-0.004874</td>\n",
       "      <td>0.0</td>\n",
       "      <td>0.010</td>\n",
       "      <td>0.115127</td>\n",
       "      <td>0.003434</td>\n",
       "      <td>0.006731</td>\n",
       "      <td>-0.011605</td>\n",
       "      <td>0.001857</td>\n",
       "      <td>False</td>\n",
       "      <td>False</td>\n",
       "    </tr>\n",
       "  </tbody>\n",
       "</table>\n",
       "</div>"
      ],
      "text/plain": [
       "                   Control  Experiment  Observed_Diff  Expected_Diff  \\\n",
       "Gross conversion  0.218875    0.198320      -0.020555            0.0   \n",
       "Net conversion    0.117562    0.112688      -0.004874            0.0   \n",
       "\n",
       "                  Minimum_Diff  Pooled_Prob  Pooled_SE  Margin_Error  \\\n",
       "Gross conversion        -0.013     0.208607   0.004372      0.008568   \n",
       "Net conversion           0.010     0.115127   0.003434      0.006731   \n",
       "\n",
       "                  Lower_CI  Upper_CI  Pass_Stat_Test  Pass_Prac_Test  \n",
       "Gross conversion -0.029123 -0.011986            True           False  \n",
       "Net conversion   -0.011605  0.001857           False           False  "
      ]
     },
     "execution_count": 544,
     "metadata": {},
     "output_type": "execute_result"
    }
   ],
   "source": [
    "eval_metrics_df"
   ]
  },
  {
   "cell_type": "markdown",
   "metadata": {},
   "source": [
    "#### Sign Test"
   ]
  },
  {
   "cell_type": "code",
   "execution_count": 545,
   "metadata": {},
   "outputs": [],
   "source": [
    "sign_test_df = final_control_df.merge(final_experiment_df,on='Date')\n",
    "\n",
    "sign_test_df['Gross_Conversion_Control'] = sign_test_df['Enrollments_x']/sign_test_df['Clicks_x']\n",
    "sign_test_df['Net_Conversion_Control'] = sign_test_df['Payments_x']/sign_test_df['Clicks_x']\n",
    "\n",
    "sign_test_df['Gross_Conversion_Experiment'] = sign_test_df['Enrollments_y']/sign_test_df['Clicks_y']\n",
    "sign_test_df['Net_Conversion_Experiment'] = sign_test_df['Payments_y']/sign_test_df['Clicks_y']"
   ]
  },
  {
   "cell_type": "code",
   "execution_count": 546,
   "metadata": {},
   "outputs": [],
   "source": [
    "sign_test_n = len(sign_test_df)"
   ]
  },
  {
   "cell_type": "markdown",
   "metadata": {},
   "source": [
    "We count the number of times in which the control gross/net conversion is higher than the experiment one:"
   ]
  },
  {
   "cell_type": "code",
   "execution_count": 547,
   "metadata": {},
   "outputs": [
    {
     "data": {
      "text/plain": [
       "19"
      ]
     },
     "execution_count": 547,
     "metadata": {},
     "output_type": "execute_result"
    }
   ],
   "source": [
    "gross_conv_k = sum(sign_test_df['Gross_Conversion_Control']>sign_test_df['Gross_Conversion_Experiment'])\n",
    "gross_conv_k"
   ]
  },
  {
   "cell_type": "code",
   "execution_count": 548,
   "metadata": {},
   "outputs": [
    {
     "data": {
      "text/plain": [
       "13"
      ]
     },
     "execution_count": 548,
     "metadata": {},
     "output_type": "execute_result"
    }
   ],
   "source": [
    "net_conv_k = sum(sign_test_df['Net_Conversion_Control']>sign_test_df['Net_Conversion_Experiment'])\n",
    "net_conv_k"
   ]
  },
  {
   "cell_type": "markdown",
   "metadata": {},
   "source": [
    "What is the probability of obtaining results at least as extreme as these (p-value)? This follows a binomial distribution with $n$ as the number of days in the dataframe and $p=0.5$ (if there is no statistical difference, days should be randomly split between positive and negative differences). The probability of obtaining *at least* $k$ successes out of $n$ trials is:"
   ]
  },
  {
   "cell_type": "code",
   "execution_count": 549,
   "metadata": {},
   "outputs": [
    {
     "data": {
      "text/plain": [
       "0.002599477767944336"
      ]
     },
     "execution_count": 549,
     "metadata": {},
     "output_type": "execute_result"
    }
   ],
   "source": [
    "gross_conv_cumul_prob=0\n",
    "\n",
    "# multiply by 2 because it is a two-sided test\n",
    "for k in range(gross_conv_k,sign_test_n+1):\n",
    "    gross_conv_cumul_prob+=2*stats.binom.pmf(k, sign_test_n, 0.5)\n",
    "    \n",
    "gross_conv_cumul_prob"
   ]
  },
  {
   "cell_type": "code",
   "execution_count": 550,
   "metadata": {},
   "outputs": [
    {
     "data": {
      "text/plain": [
       "0.6776394844055196"
      ]
     },
     "execution_count": 550,
     "metadata": {},
     "output_type": "execute_result"
    }
   ],
   "source": [
    "net_conv_cumul_prob=0\n",
    "\n",
    "# multiply by 2 because it is a two-sided test\n",
    "for k in range(net_conv_k,sign_test_n+1):\n",
    "    net_conv_cumul_prob+=2*stats.binom.pmf(k, sign_test_n, 0.5)\n",
    "    \n",
    "net_conv_cumul_prob"
   ]
  },
  {
   "cell_type": "code",
   "execution_count": null,
   "metadata": {},
   "outputs": [],
   "source": []
  },
  {
   "cell_type": "code",
   "execution_count": null,
   "metadata": {},
   "outputs": [],
   "source": []
  },
  {
   "cell_type": "code",
   "execution_count": null,
   "metadata": {},
   "outputs": [],
   "source": []
  },
  {
   "cell_type": "code",
   "execution_count": null,
   "metadata": {},
   "outputs": [],
   "source": []
  },
  {
   "cell_type": "code",
   "execution_count": null,
   "metadata": {},
   "outputs": [],
   "source": []
  },
  {
   "cell_type": "code",
   "execution_count": null,
   "metadata": {},
   "outputs": [],
   "source": []
  },
  {
   "cell_type": "code",
   "execution_count": null,
   "metadata": {},
   "outputs": [],
   "source": []
  }
 ],
 "metadata": {
  "kernelspec": {
   "display_name": "Python 3",
   "language": "python",
   "name": "python3"
  },
  "language_info": {
   "codemirror_mode": {
    "name": "ipython",
    "version": 3
   },
   "file_extension": ".py",
   "mimetype": "text/x-python",
   "name": "python",
   "nbconvert_exporter": "python",
   "pygments_lexer": "ipython3",
   "version": "3.7.6"
  }
 },
 "nbformat": 4,
 "nbformat_minor": 4
}
